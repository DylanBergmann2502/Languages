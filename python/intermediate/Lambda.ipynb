{
 "cells": [
  {
   "cell_type": "code",
   "execution_count": 1,
   "id": "0d7e33c1",
   "metadata": {},
   "outputs": [
    {
     "name": "stdout",
     "output_type": "stream",
     "text": [
      "8\n"
     ]
    }
   ],
   "source": [
    "mx = lambda x, y: x if x>y else y\n",
    "print (mx(8,5))"
   ]
  },
  {
   "cell_type": "code",
   "execution_count": 2,
   "id": "5ce6afe8",
   "metadata": {},
   "outputs": [
    {
     "data": {
      "text/plain": [
       "[16, 9, 4, 1]"
      ]
     },
     "execution_count": 2,
     "metadata": {},
     "output_type": "execute_result"
    }
   ],
   "source": [
    "n = [4, 3, 2, 1]\n",
    "n2 = list(map(lambda x: x**2, n))\n",
    "n2"
   ]
  },
  {
   "cell_type": "code",
   "execution_count": 3,
   "id": "831cfbcd",
   "metadata": {},
   "outputs": [
    {
     "data": {
      "text/plain": [
       "[4, 3]"
      ]
     },
     "execution_count": 3,
     "metadata": {},
     "output_type": "execute_result"
    }
   ],
   "source": [
    "n3 = list(filter(lambda x: x>2, n))\n",
    "n3"
   ]
  },
  {
   "cell_type": "code",
   "execution_count": 4,
   "id": "b67ea55c",
   "metadata": {},
   "outputs": [
    {
     "name": "stdout",
     "output_type": "stream",
     "text": [
      "[('carrots', 1.1), ('eggs', 5.25), ('honey', 9.7), ('peaches', 2.45)]\n"
     ]
    }
   ],
   "source": [
    "list1 = [('eggs', 5.25), ('honey', 9.70), ('carrots', 1.10), ('peaches', 2.45)]\n",
    "list1.sort(key = lambda x: x[0])\n",
    "print(list1)"
   ]
  },
  {
   "cell_type": "code",
   "execution_count": 5,
   "id": "f43c162f",
   "metadata": {},
   "outputs": [
    {
     "name": "stdout",
     "output_type": "stream",
     "text": [
      "[{'make': 'Tesla', 'model': 'X', 'year': 1999},\n",
      " {'make': 'Mercedes', 'model': 'C35OE', 'year': 2008},\n",
      " {'make': 'Ford', 'model': 'Focus', 'year': 2013}]\n"
     ]
    }
   ],
   "source": [
    "import pprint as pp\n",
    "list1 = [{'make': 'Ford', 'model': 'Focus', 'year':2013}, \n",
    "        {'make': 'Tesla', 'model': 'X', 'year':1999}, \n",
    "        {'make': 'Mercedes', 'model': 'C35OE', 'year':2008}]\n",
    "list2 = sorted(list1, key = lambda x: x['year'])\n",
    "pp.pprint(list2)"
   ]
  },
  {
   "cell_type": "code",
   "execution_count": 6,
   "id": "1f2f80d6",
   "metadata": {},
   "outputs": [
    {
     "name": "stdout",
     "output_type": "stream",
     "text": [
      "True\n"
     ]
    }
   ],
   "source": [
    "swD = lambda x: True if x.startswith('D') else False\n",
    "print(swD('Dylan'))"
   ]
  },
  {
   "cell_type": "code",
   "execution_count": null,
   "id": "dd22c3fc",
   "metadata": {},
   "outputs": [],
   "source": []
  }
 ],
 "metadata": {
  "kernelspec": {
   "display_name": "Python 3 (ipykernel)",
   "language": "python",
   "name": "python3"
  },
  "language_info": {
   "codemirror_mode": {
    "name": "ipython",
    "version": 3
   },
   "file_extension": ".py",
   "mimetype": "text/x-python",
   "name": "python",
   "nbconvert_exporter": "python",
   "pygments_lexer": "ipython3",
   "version": "3.10.7"
  }
 },
 "nbformat": 4,
 "nbformat_minor": 5
}
